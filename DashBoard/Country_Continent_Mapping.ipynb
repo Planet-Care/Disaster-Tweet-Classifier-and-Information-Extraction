{
  "nbformat": 4,
  "nbformat_minor": 0,
  "metadata": {
    "colab": {
      "provenance": []
    },
    "kernelspec": {
      "name": "python3",
      "display_name": "Python 3"
    },
    "language_info": {
      "name": "python"
    }
  },
  "cells": [
    {
      "cell_type": "code",
      "source": [
        "import pandas as pd\n",
        "from pycountry_convert import country_alpha2_to_continent_code, country_name_to_country_alpha2"
      ],
      "metadata": {
        "id": "WHfZsfaUULh9"
      },
      "execution_count": 54,
      "outputs": []
    },
    {
      "cell_type": "code",
      "source": [
        "def get_continent(country_name):\n",
        "    try:\n",
        "        country_alpha2 = country_name_to_country_alpha2(country_name)\n",
        "        continent_code = country_alpha2_to_continent_code(country_alpha2)\n",
        "        return continent_code\n",
        "    except KeyError:\n",
        "        return \"Unknown\""
      ],
      "metadata": {
        "id": "qXBKl21Abr94"
      },
      "execution_count": 58,
      "outputs": []
    },
    {
      "cell_type": "code",
      "source": [
        "df = pd.read_csv('world_risk_index.csv')\n",
        "\n",
        "df['continent'] = df['Region'].apply(get_continent)"
      ],
      "metadata": {
        "id": "9V-MvpIMb0Uw"
      },
      "execution_count": 59,
      "outputs": []
    },
    {
      "cell_type": "code",
      "source": [
        "df.to_csv('world_risk_index.csv', index=False)"
      ],
      "metadata": {
        "id": "LDff80djd28l"
      },
      "execution_count": 60,
      "outputs": []
    }
  ]
}