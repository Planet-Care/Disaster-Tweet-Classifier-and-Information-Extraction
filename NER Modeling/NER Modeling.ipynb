{
 "cells": [
  {
   "cell_type": "code",
   "execution_count": null,
   "id": "9deedcd4",
   "metadata": {},
   "outputs": [],
   "source": [
    "import spacy\n",
    "from spacy.tokens import DocBin\n",
    "from tqdm import tqdm\n",
    "\n",
    "import json"
   ]
  },
  {
   "cell_type": "code",
   "execution_count": null,
   "id": "23cecf68",
   "metadata": {},
   "outputs": [],
   "source": [
    "nlp = spacy.blank(\"en\") # load a new spacy model\n",
    "db = DocBin() # create a DocBin object"
   ]
  },
  {
   "cell_type": "code",
   "execution_count": null,
   "id": "d0e3475e",
   "metadata": {},
   "outputs": [],
   "source": [
    "def get_spacy(file_name):\n",
    "    f = open(file_name)\n",
    "    DATA = json.load(f)\n",
    "    for text, annot in tqdm(DATA['annotations']): \n",
    "        doc = nlp.make_doc(text) \n",
    "        ents = []\n",
    "        for start, end, label in annot[\"entities\"]:\n",
    "            span = doc.char_span(start, end, label=label, alignment_mode=\"contract\")\n",
    "            if span is None:\n",
    "                print(\"Skipping entity\")\n",
    "            else:\n",
    "                ents.append(span)\n",
    "        doc.ents = ents \n",
    "        db.add(doc)\n",
    "\n",
    "    base_name = file_name.split(\".\")[0]\n",
    "    output_file_name = f\"{base_name}.spacy\"\n",
    "    db.to_disk(output_file_name)"
   ]
  },
  {
   "cell_type": "code",
   "execution_count": null,
   "id": "827d7445",
   "metadata": {},
   "outputs": [],
   "source": [
    "get_spacy('training_data.json')"
   ]
  },
  {
   "cell_type": "code",
   "execution_count": null,
   "id": "2fbf669d",
   "metadata": {},
   "outputs": [],
   "source": [
    "get_spacy('dev_data.json')"
   ]
  },
  {
   "cell_type": "code",
   "execution_count": null,
   "id": "71bd8474",
   "metadata": {},
   "outputs": [],
   "source": [
    "! python -m spacy init config config.cfg --lang en --pipeline ner --optimize efficiency"
   ]
  },
  {
   "cell_type": "code",
   "execution_count": null,
   "id": "bcff81e7",
   "metadata": {},
   "outputs": [],
   "source": [
    "! python -m spacy train config.cfg --output ./ --paths.train ./training_data.spacy --paths.dev ./dev_data.spacy"
   ]
  },
  {
   "cell_type": "code",
   "execution_count": null,
   "id": "40a7b4eb",
   "metadata": {},
   "outputs": [],
   "source": [
    "# nlp_ner = spacy.load(\"model-best\")\n",
    "\n",
    "# doc = nlp_ner('test texts')\n",
    "# spacy.displacy.render(doc, style=\"ent\", jupyter=True)"
   ]
  }
 ],
 "metadata": {
  "kernelspec": {
   "display_name": "Python 3 (ipykernel)",
   "language": "python",
   "name": "python3"
  },
  "language_info": {
   "codemirror_mode": {
    "name": "ipython",
    "version": 3
   },
   "file_extension": ".py",
   "mimetype": "text/x-python",
   "name": "python",
   "nbconvert_exporter": "python",
   "pygments_lexer": "ipython3",
   "version": "3.11.5"
  }
 },
 "nbformat": 4,
 "nbformat_minor": 5
}
